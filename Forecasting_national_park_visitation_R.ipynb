{
  "cells": [
    {
      "cell_type": "code",
      "execution_count": 1,
      "metadata": {
        "colab": {
          "base_uri": "https://localhost:8080/"
        },
        "id": "38WRJkemaopG",
        "outputId": "ce299bc6-46e6-4cf0-82a2-4b1e018c5606"
      },
      "outputs": [
        {
          "output_type": "stream",
          "name": "stderr",
          "text": [
            "Installing package into ‘/usr/local/lib/R/site-library’\n",
            "(as ‘lib’ is unspecified)\n",
            "\n",
            "Loading required package: Matrix\n",
            "\n",
            "\n",
            "Attaching package: ‘arules’\n",
            "\n",
            "\n",
            "The following objects are masked from ‘package:base’:\n",
            "\n",
            "    abbreviate, write\n",
            "\n",
            "\n"
          ]
        }
      ],
      "source": [
        "install.packages(\"arules\")\n",
        "library(arules)\n"
      ]
    },
    {
      "cell_type": "code",
      "execution_count": null,
      "metadata": {
        "colab": {
          "base_uri": "https://localhost:8080/"
        },
        "id": "trndqJbXDTl4",
        "outputId": "d2cd6b3c-30ec-4716-c01a-633aef8c29ef"
      },
      "outputs": [
        {
          "name": "stdout",
          "output_type": "stream",
          "text": [
            "Apriori\n",
            "\n",
            "Parameter specification:\n",
            " confidence minval smax arem  aval originalSupport maxtime support minlen\n",
            "        0.7    0.1    1 none FALSE            TRUE       5     0.1      1\n",
            " maxlen target  ext\n",
            "     10  rules TRUE\n",
            "\n",
            "Algorithmic control:\n",
            " filter tree heap memopt load sort verbose\n",
            "    0.1 TRUE TRUE  FALSE TRUE    2    TRUE\n",
            "\n",
            "Absolute minimum support count: 5 \n",
            "\n",
            "set item appearances ...[0 item(s)] done [0.00s].\n",
            "set transactions ...[29 item(s), 51 transaction(s)] done [0.00s].\n",
            "sorting and recoding items ... [12 item(s)] done [0.00s].\n",
            "creating transaction tree ... done [0.00s].\n",
            "checking subsets of size 1 2 3 4 5 done [0.00s].\n",
            "writing ... [60 rule(s)] done [0.00s].\n",
            "creating S4 object  ... done [0.00s].\n",
            "     lhs                             rhs              support   confidence\n",
            "[1]  {}                           => {'nature-trips'} 0.7647059 0.7647059 \n",
            "[2]  {}                           => {['birding'}     0.7058824 0.7058824 \n",
            "[3]  {}                           => {'hiking'}       0.7058824 0.7058824 \n",
            "[4]  {['birding'}                 => {'hiking'}       0.6274510 0.8888889 \n",
            "[5]  {'hiking'}                   => {['birding'}     0.6274510 0.8888889 \n",
            "[6]  {['birding'}                 => {'nature-trips'} 0.6274510 0.8888889 \n",
            "[7]  {'nature-trips'}             => {['birding'}     0.6274510 0.8205128 \n",
            "[8]  {'hiking'}                   => {'nature-trips'} 0.5882353 0.8333333 \n",
            "[9]  {'nature-trips'}             => {'hiking'}       0.5882353 0.7692308 \n",
            "[10] {'hiking', ['birding'}       => {'nature-trips'} 0.5686275 0.9062500 \n",
            "[11] {'nature-trips', ['birding'} => {'hiking'}       0.5686275 0.9062500 \n",
            "[12] {'hiking', 'nature-trips'}   => {['birding'}     0.5686275 0.9666667 \n",
            "[13] {'walking']}                 => {'nature-trips'} 0.4117647 0.8750000 \n",
            "[14] {'walking']}                 => {['birding'}     0.3529412 0.7500000 \n",
            "[15] {'walking'], ['birding'}     => {'nature-trips'} 0.3333333 0.9444444 \n",
            "[16] {'nature-trips', 'walking']} => {['birding'}     0.3333333 0.8095238 \n",
            "[17] {'walking'], ['birding'}     => {'hiking'}       0.3137255 0.8888889 \n",
            "[18] {'hiking', 'walking']}       => {['birding'}     0.3137255 1.0000000 \n",
            "[19] {'hiking', 'walking']}       => {'nature-trips'} 0.3137255 1.0000000 \n",
            "[20] {'nature-trips', 'walking']} => {'hiking'}       0.3137255 0.7619048 \n",
            "     coverage  lift     count\n",
            "[1]  1.0000000 1.000000 39   \n",
            "[2]  1.0000000 1.000000 36   \n",
            "[3]  1.0000000 1.000000 36   \n",
            "[4]  0.7058824 1.259259 32   \n",
            "[5]  0.7058824 1.259259 32   \n",
            "[6]  0.7058824 1.162393 32   \n",
            "[7]  0.7647059 1.162393 32   \n",
            "[8]  0.7058824 1.089744 30   \n",
            "[9]  0.7647059 1.089744 30   \n",
            "[10] 0.6274510 1.185096 29   \n",
            "[11] 0.6274510 1.283854 29   \n",
            "[12] 0.5882353 1.369444 29   \n",
            "[13] 0.4705882 1.144231 21   \n",
            "[14] 0.4705882 1.062500 18   \n",
            "[15] 0.3529412 1.235043 17   \n",
            "[16] 0.4117647 1.146825 17   \n",
            "[17] 0.3529412 1.259259 16   \n",
            "[18] 0.3137255 1.416667 16   \n",
            "[19] 0.3137255 1.307692 16   \n",
            "[20] 0.4117647 1.079365 16   \n"
          ]
        }
      ],
      "source": [
        "df <- read.csv(\"file1.csv\")\n",
        "df$activities <- lapply(strsplit(as.character(df$activities), \", \"), trimws)\n",
        "\n",
        "# Transform the data frame into transactions\n",
        "transactions <- as(df$activities, \"transactions\")\n",
        "\n",
        "# Build rules using Apriori algorithm\n",
        "rules <- apriori(transactions, parameter = list(support = 0.1, confidence = 0.7))\n",
        "\n",
        "# Display frequent itemsets\n",
        "inspect(head(sort(rules, by = \"support\"), 20))\n"
      ]
    }
  ],
  "metadata": {
    "colab": {
      "provenance": []
    },
    "kernelspec": {
      "display_name": "R",
      "name": "ir"
    },
    "language_info": {
      "name": "R"
    }
  },
  "nbformat": 4,
  "nbformat_minor": 0
}